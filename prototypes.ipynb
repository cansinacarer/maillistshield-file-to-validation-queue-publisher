{
 "cells": [
  {
   "cell_type": "code",
   "execution_count": 1,
   "id": "d5335306",
   "metadata": {},
   "outputs": [],
   "source": [
    "from app.utilities.s3 import list_files, move_file\n",
    "from app.utilities.database import get_job_status\n",
    "from app.utilities.rabbitmq import *\n",
    "from app.utilities.logging import logger"
   ]
  },
  {
   "cell_type": "code",
   "execution_count": 2,
   "id": "c0649c18",
   "metadata": {},
   "outputs": [
    {
     "data": {
      "text/plain": [
       "'file_queued'"
      ]
     },
     "execution_count": 2,
     "metadata": {},
     "output_type": "execute_result"
    }
   ],
   "source": [
    "get_job_status('validation/in-progress/1-20250905051437-test12.csv')"
   ]
  },
  {
   "cell_type": "code",
   "execution_count": 3,
   "id": "0859d816",
   "metadata": {},
   "outputs": [
    {
     "data": {
      "text/plain": [
       "[{'Key': 'validation/queued/1-20250905051437-test12.csv',\n",
       "  'LastModified': datetime.datetime(2025, 9, 5, 5, 14, 48, 73000, tzinfo=tzutc()),\n",
       "  'ETag': '\"70ce360f86b41e4254b7de1a70b7652d\"',\n",
       "  'Size': 73,\n",
       "  'StorageClass': 'STANDARD'},\n",
       " {'Key': 'validation/queued/1-20250907191002-test13.csv',\n",
       "  'LastModified': datetime.datetime(2025, 9, 7, 19, 10, 32, 439000, tzinfo=tzutc()),\n",
       "  'ETag': '\"bfec12d988cfaee58ba1a8af52c73025\"',\n",
       "  'Size': 88,\n",
       "  'StorageClass': 'STANDARD'},\n",
       " {'Key': 'validation/queued/1-20250909223541-test14.csv',\n",
       "  'LastModified': datetime.datetime(2025, 9, 10, 4, 0, 0, 109000, tzinfo=tzutc()),\n",
       "  'ETag': '\"650e5d0f6a3093497aeee4a88f8c4c42\"',\n",
       "  'Size': 145,\n",
       "  'StorageClass': 'STANDARD'}]"
      ]
     },
     "execution_count": 3,
     "metadata": {},
     "output_type": "execute_result"
    }
   ],
   "source": [
    "list_files('validation/queued/')"
   ]
  },
  {
   "cell_type": "code",
   "execution_count": 4,
   "id": "908eb0f7",
   "metadata": {},
   "outputs": [
    {
     "name": "stderr",
     "output_type": "stream",
     "text": [
      "2025-09-10 02:07:36,360 - INFO - Prototypes ran successfully!\n"
     ]
    }
   ],
   "source": [
    "logger.info(\"Prototypes ran successfully!\")"
   ]
  },
  {
   "cell_type": "code",
   "execution_count": 5,
   "id": "f3f1f637",
   "metadata": {},
   "outputs": [
    {
     "name": "stderr",
     "output_type": "stream",
     "text": [
      "2025-09-10 02:07:37,156 - DEBUG - Connected to RabbitMQ at rabbitmq.apps.cansin.net:5672\n"
     ]
    }
   ],
   "source": [
    "queue_agent = QueueAgent(rabbitmq_vhost='mls.batch.pending_validation')"
   ]
  },
  {
   "cell_type": "code",
   "execution_count": 6,
   "id": "a4902dcc",
   "metadata": {},
   "outputs": [
    {
     "name": "stderr",
     "output_type": "stream",
     "text": [
      "2025-09-10 02:07:37,383 - DEBUG - Created queue: 'test-queue-123'.\n"
     ]
    },
    {
     "data": {
      "text/plain": [
       "True"
      ]
     },
     "execution_count": 6,
     "metadata": {},
     "output_type": "execute_result"
    }
   ],
   "source": [
    "queue_agent.create_queue('test-queue-123')"
   ]
  },
  {
   "cell_type": "code",
   "execution_count": 7,
   "id": "d6c39008",
   "metadata": {},
   "outputs": [
    {
     "data": {
      "text/plain": [
       "['test-queue-123']"
      ]
     },
     "execution_count": 7,
     "metadata": {},
     "output_type": "execute_result"
    }
   ],
   "source": [
    "queues = queue_agent.list_all_queues()\n",
    "queues"
   ]
  },
  {
   "cell_type": "code",
   "execution_count": 8,
   "id": "2262b99f",
   "metadata": {},
   "outputs": [
    {
     "name": "stderr",
     "output_type": "stream",
     "text": [
      "2025-09-10 02:07:37,776 - DEBUG - Published message to queue 'test-queue-123'.\n",
      "2025-09-10 02:07:37,873 - DEBUG - Published message to queue 'test-queue-123'.\n",
      "2025-09-10 02:07:37,962 - DEBUG - Published message to queue 'test-queue-123'.\n"
     ]
    }
   ],
   "source": [
    "for i in range(3):\n",
    "    queue_agent.publish_message(queues[0], {'test': f'message{i+1}'})"
   ]
  },
  {
   "cell_type": "code",
   "execution_count": 9,
   "id": "c930d6f2",
   "metadata": {},
   "outputs": [
    {
     "name": "stderr",
     "output_type": "stream",
     "text": [
      "2025-09-10 02:07:38,150 - DEBUG - Retrieved message from queue 'test-queue-123'.\n"
     ]
    },
    {
     "data": {
      "text/plain": [
       "{'test': 'message1'}"
      ]
     },
     "execution_count": 9,
     "metadata": {},
     "output_type": "execute_result"
    }
   ],
   "source": [
    "queue_agent.get_message(queues[0])"
   ]
  },
  {
   "cell_type": "code",
   "execution_count": 10,
   "id": "ed3e4e0b",
   "metadata": {},
   "outputs": [
    {
     "data": {
      "text/plain": [
       "{'ready': 2, 'unacked': 1, 'total': 3}"
      ]
     },
     "execution_count": 10,
     "metadata": {},
     "output_type": "execute_result"
    }
   ],
   "source": [
    "import time\n",
    "time.sleep(3)\n",
    "messages = {\n",
    "    'ready': queue_agent.get_message_count(queues[0], message_type='ready'),\n",
    "    'unacked': queue_agent.get_message_count(queues[0], message_type='unacked'),\n",
    "    'total': queue_agent.get_message_count(queues[0], message_type='total'),\n",
    "}\n",
    "messages"
   ]
  },
  {
   "cell_type": "code",
   "execution_count": 11,
   "id": "efe6ea9d",
   "metadata": {},
   "outputs": [
    {
     "name": "stderr",
     "output_type": "stream",
     "text": [
      "2025-09-10 02:07:49,630 - DEBUG - Deleted queue: 'test-queue-123'.\n"
     ]
    },
    {
     "data": {
      "text/plain": [
       "True"
      ]
     },
     "execution_count": 11,
     "metadata": {},
     "output_type": "execute_result"
    }
   ],
   "source": [
    "queue_agent.delete_queue(queues[0])"
   ]
  }
 ],
 "metadata": {
  "kernelspec": {
   "display_name": "env",
   "language": "python",
   "name": "python3"
  },
  "language_info": {
   "codemirror_mode": {
    "name": "ipython",
    "version": 3
   },
   "file_extension": ".py",
   "mimetype": "text/x-python",
   "name": "python",
   "nbconvert_exporter": "python",
   "pygments_lexer": "ipython3",
   "version": "3.13.5"
  }
 },
 "nbformat": 4,
 "nbformat_minor": 5
}
