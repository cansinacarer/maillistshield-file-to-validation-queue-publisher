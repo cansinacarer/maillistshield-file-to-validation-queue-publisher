{
 "cells": [
  {
   "cell_type": "code",
   "execution_count": 1,
   "id": "d5335306",
   "metadata": {},
   "outputs": [],
   "source": [
    "from app.utilities.s3 import list_files\n",
    "from app.utilities.database import get_job_status\n",
    "from app.utilities.rabbitmq import list_all_queues\n",
    "from app.utilities.logging import logger"
   ]
  },
  {
   "cell_type": "code",
   "execution_count": 2,
   "id": "c0649c18",
   "metadata": {},
   "outputs": [
    {
     "data": {
      "text/plain": [
       "'file_queued'"
      ]
     },
     "execution_count": 2,
     "metadata": {},
     "output_type": "execute_result"
    }
   ],
   "source": [
    "get_job_status('validation/in-progress/1-20250905051437-test12.csv')"
   ]
  },
  {
   "cell_type": "code",
   "execution_count": 3,
   "id": "0859d816",
   "metadata": {},
   "outputs": [
    {
     "data": {
      "text/plain": [
       "[{'Key': 'validation/queued/1-20250905051437-test12.csv',\n",
       "  'LastModified': datetime.datetime(2025, 9, 5, 5, 14, 48, 73000, tzinfo=tzutc()),\n",
       "  'ETag': '\"70ce360f86b41e4254b7de1a70b7652d\"',\n",
       "  'Size': 73,\n",
       "  'StorageClass': 'STANDARD'},\n",
       " {'Key': 'validation/queued/1-20250907191002-test13.csv',\n",
       "  'LastModified': datetime.datetime(2025, 9, 7, 19, 10, 32, 439000, tzinfo=tzutc()),\n",
       "  'ETag': '\"bfec12d988cfaee58ba1a8af52c73025\"',\n",
       "  'Size': 88,\n",
       "  'StorageClass': 'STANDARD'}]"
      ]
     },
     "execution_count": 3,
     "metadata": {},
     "output_type": "execute_result"
    }
   ],
   "source": [
    "list_files('validation/queued/')"
   ]
  },
  {
   "cell_type": "code",
   "execution_count": 4,
   "id": "3093eb23",
   "metadata": {},
   "outputs": [
    {
     "data": {
      "text/plain": [
       "[('dummmy_q', 0)]"
      ]
     },
     "execution_count": 4,
     "metadata": {},
     "output_type": "execute_result"
    }
   ],
   "source": [
    "[(queue.get('name'), queue.get('messages', 0)) for queue in list_all_queues('mls.batch.pending_file_build')]"
   ]
  },
  {
   "cell_type": "code",
   "execution_count": 5,
   "id": "908eb0f7",
   "metadata": {},
   "outputs": [
    {
     "name": "stderr",
     "output_type": "stream",
     "text": [
      "2025-09-09 17:33:00,300 - INFO - Prototypes ran successfully!\n"
     ]
    }
   ],
   "source": [
    "logger.info(\"Prototypes ran successfully!\")"
   ]
  }
 ],
 "metadata": {
  "kernelspec": {
   "display_name": "env",
   "language": "python",
   "name": "python3"
  },
  "language_info": {
   "codemirror_mode": {
    "name": "ipython",
    "version": 3
   },
   "file_extension": ".py",
   "mimetype": "text/x-python",
   "name": "python",
   "nbconvert_exporter": "python",
   "pygments_lexer": "ipython3",
   "version": "3.13.5"
  }
 },
 "nbformat": 4,
 "nbformat_minor": 5
}
