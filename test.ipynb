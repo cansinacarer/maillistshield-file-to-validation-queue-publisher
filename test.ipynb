{
 "cells": [
  {
   "cell_type": "code",
   "execution_count": 1,
   "metadata": {},
   "outputs": [],
   "source": [
    "import asyncio\n",
    "import aiohttp\n",
    "from asyncio import Queue\n",
    "import time"
   ]
  },
  {
   "cell_type": "code",
   "execution_count": null,
   "metadata": {},
   "outputs": [
    {
     "ename": "",
     "evalue": "",
     "output_type": "error",
     "traceback": [
      "\u001b[1;31mRunning cells with 'env (Python 3.10.7)' requires the ipykernel package.\n",
      "\u001b[1;31mRun the following command to install 'ipykernel' into the Python environment. \n",
      "\u001b[1;31mCommand: 'c:/Users/cansin/Desktop/maillistshield-file-validator/env/Scripts/python.exe -m pip install ipykernel -U --force-reinstall'"
     ]
    }
   ],
   "source": [
    "class EmailSender:\n",
    "    def __init__(self, max_concurrent_requests=20):\n",
    "        self.queue = Queue()\n",
    "        self.max_concurrent_requests = max_concurrent_requests\n",
    "        self.session = None\n",
    "\n",
    "    async def send_email(self, email):\n",
    "        # Replace this with your actual API call\n",
    "        time.sleep(1)\n",
    "\n",
    "    async def worker(self):\n",
    "        while True:\n",
    "            email = await self.queue.get()\n",
    "            try:\n",
    "                result = await self.send_email(email)\n",
    "                print(f\"Sent email to {email}: {result}\")\n",
    "            except Exception as e:\n",
    "                print(f\"Error sending email to {email}: {str(e)}\")\n",
    "            finally:\n",
    "                self.queue.task_done()\n",
    "\n",
    "    async def run(self):\n",
    "        self.session = aiohttp.ClientSession()\n",
    "        workers = [asyncio.create_task(self.worker()) for _ in range(self.max_concurrent_requests)]\n",
    "        \n",
    "        try:\n",
    "            while True:\n",
    "                # This keeps the queue running indefinitely\n",
    "                await asyncio.sleep(1)\n",
    "        finally:\n",
    "            await self.session.close()\n",
    "            for worker in workers:\n",
    "                worker.cancel()\n",
    "\n",
    "    def add_email(self, email):\n",
    "        self.queue.put_nowait(email)"
   ]
  },
  {
   "cell_type": "code",
   "execution_count": null,
   "metadata": {},
   "outputs": [],
   "source": [
    "# Usage\n",
    "async def main():\n",
    "    sender = EmailSender()\n",
    "    asyncio.create_task(sender.run())\n",
    "\n",
    "    # Add some sample emails\n",
    "    for i in range(100):\n",
    "        sender.add_email(f\"user{i}@example.com\")\n",
    "\n",
    "    # Wait for all emails to be processed\n",
    "    await sender.queue.join()\n",
    "\n",
    "    # You can continue adding more emails later\n",
    "    sender.add_email(\"newuser@example.com\")\n",
    "\n",
    "if __name__ == \"__main__\":\n",
    "    asyncio.run(main())"
   ]
  }
 ],
 "metadata": {
  "kernelspec": {
   "display_name": "env",
   "language": "python",
   "name": "python3"
  },
  "language_info": {
   "codemirror_mode": {
    "name": "ipython",
    "version": 3
   },
   "file_extension": ".py",
   "mimetype": "text/x-python",
   "name": "python",
   "nbconvert_exporter": "python",
   "pygments_lexer": "ipython3",
   "version": "3.10.7"
  }
 },
 "nbformat": 4,
 "nbformat_minor": 2
}
