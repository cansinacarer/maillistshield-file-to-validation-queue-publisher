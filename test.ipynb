{
 "cells": [
  {
   "cell_type": "code",
   "execution_count": 1,
   "metadata": {},
   "outputs": [],
   "source": [
    "import asyncio\n",
    "\n",
    "from app.config import POLLING_INTERVAL, PAUSE\n",
    "from app.uptime import ping_uptime_monitor\n",
    "from app.utilities import enqueue_new_files, report_file_progress, list_files"
   ]
  },
  {
   "cell_type": "code",
   "execution_count": 2,
   "metadata": {},
   "outputs": [
    {
     "data": {
      "text/plain": [
       "[{'Key': 'validation/in-progress/1-20241119012819-test9.1.csv',\n",
       "  'LastModified': datetime.datetime(2024, 11, 19, 6, 28, 21, 48000, tzinfo=tzutc()),\n",
       "  'ETag': '\"70ce360f86b41e4254b7de1a70b7652d\"',\n",
       "  'Size': 73,\n",
       "  'StorageClass': 'STANDARD'},\n",
       " {'Key': 'validation/in-progress/1-20241119013231-test9.1.csv',\n",
       "  'LastModified': datetime.datetime(2024, 11, 19, 6, 32, 32, 281000, tzinfo=tzutc()),\n",
       "  'ETag': '\"70ce360f86b41e4254b7de1a70b7652d\"',\n",
       "  'Size': 73,\n",
       "  'StorageClass': 'STANDARD'},\n",
       " {'Key': 'validation/in-progress/1-20241119063820-test10.csv',\n",
       "  'LastModified': datetime.datetime(2024, 11, 19, 6, 38, 22, 416000, tzinfo=tzutc()),\n",
       "  'ETag': '\"ab9fb321c46ffad4eb13f597fa413439\"',\n",
       "  'Size': 331,\n",
       "  'StorageClass': 'STANDARD'},\n",
       " {'Key': 'validation/in-progress/1-20241128041104-test9.1.csv',\n",
       "  'LastModified': datetime.datetime(2024, 11, 28, 4, 19, 5, 994000, tzinfo=tzutc()),\n",
       "  'ETag': '\"70ce360f86b41e4254b7de1a70b7652d\"',\n",
       "  'Size': 73,\n",
       "  'StorageClass': 'STANDARD'},\n",
       " {'Key': 'validation/in-progress/1-20241128042012-test9.1.csv',\n",
       "  'LastModified': datetime.datetime(2024, 11, 28, 4, 20, 16, 575000, tzinfo=tzutc()),\n",
       "  'ETag': '\"70ce360f86b41e4254b7de1a70b7652d\"',\n",
       "  'Size': 73,\n",
       "  'StorageClass': 'STANDARD'},\n",
       " {'Key': 'validation/in-progress/1-20241128042122-test9.1.csv',\n",
       "  'LastModified': datetime.datetime(2024, 11, 28, 4, 21, 26, 454000, tzinfo=tzutc()),\n",
       "  'ETag': '\"70ce360f86b41e4254b7de1a70b7652d\"',\n",
       "  'Size': 73,\n",
       "  'StorageClass': 'STANDARD'}]"
      ]
     },
     "execution_count": 2,
     "metadata": {},
     "output_type": "execute_result"
    }
   ],
   "source": [
    "list_files()"
   ]
  },
  {
   "cell_type": "markdown",
   "metadata": {},
   "source": [
    "ready with chunks from s3"
   ]
  }
 ],
 "metadata": {
  "kernelspec": {
   "display_name": "env",
   "language": "python",
   "name": "python3"
  },
  "language_info": {
   "codemirror_mode": {
    "name": "ipython",
    "version": 3
   },
   "file_extension": ".py",
   "mimetype": "text/x-python",
   "name": "python",
   "nbconvert_exporter": "python",
   "pygments_lexer": "ipython3",
   "version": "3.10.7"
  }
 },
 "nbformat": 4,
 "nbformat_minor": 2
}
